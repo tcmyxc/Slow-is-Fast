{
 "cells": [
  {
   "cell_type": "code",
   "execution_count": 1,
   "source": [
    "from torchvision import transforms\r\n",
    "from torch.utils.data import DataLoader, Dataset\r\n",
    "import os\r\n",
    "from PIL import Image\r\n",
    "import numpy as np\r\n",
    "import glob"
   ],
   "outputs": [],
   "metadata": {}
  },
  {
   "cell_type": "code",
   "execution_count": 2,
   "source": [
    "# 标签名\r\n",
    "label_name = [\"airplane\", \"automobile\", \"bird\", \"cat\", \"deer\",\r\n",
    "                \"dog\", \"frog\", \"horse\", \"ship\", \"truck\"]"
   ],
   "outputs": [],
   "metadata": {}
  },
  {
   "cell_type": "code",
   "execution_count": 3,
   "source": [
    "label_dict = {}\r\n",
    "\r\n",
    "# 将标签转换为数字\r\n",
    "for idx, name in enumerate(label_name):\r\n",
    "    label_dict[name] = idx"
   ],
   "outputs": [],
   "metadata": {}
  },
  {
   "cell_type": "code",
   "execution_count": 4,
   "source": [
    "def default_loader(path):\r\n",
    "    \"\"\"根据图片路径打开图片\r\n",
    "\r\n",
    "    :param path: 图片路径\r\n",
    "    \"\"\"\r\n",
    "    return Image.open(path).convert(\"RGB\")\r\n",
    "\r\n",
    "\r\n",
    "# 定义数据增强(仅训练集需要)\r\n",
    "train_transfrom = transforms.Compose([\r\n",
    "    transforms.RandomResizedCrop([28, 28]),\r\n",
    "    transforms.RandomHorizontalFlip(),\r\n",
    "    transforms.RandomVerticalFlip(),\r\n",
    "    transforms.RandomRotation(90),\r\n",
    "    transforms.RandomGrayscale(0.1), # 0.1 的概率变成灰度图\r\n",
    "    transforms.ToTensor()\r\n",
    "])"
   ],
   "outputs": [],
   "metadata": {}
  },
  {
   "cell_type": "code",
   "execution_count": 14,
   "source": [
    "class MyDataset(Dataset):\r\n",
    "    \"\"\"自定义数据集\"\"\"\r\n",
    "\r\n",
    "    def __init__(self, im_list, transform=None, loader=default_loader):\r\n",
    "        super().__init__()\r\n",
    "        imgs = []\r\n",
    "\r\n",
    "        for im_item in im_list:\r\n",
    "            # 倒数第二个是标签名\r\n",
    "            # win 的分割符是 \\\\，linux 是 /\r\n",
    "            im_label_name = im_item.split(\"\\\\\")[-2] \r\n",
    "            # 列表中追加图片路径，图片类别\r\n",
    "            imgs.append([im_item, label_dict[im_label_name]]) \r\n",
    "        \r\n",
    "        self.imgs = imgs\r\n",
    "        self.transform = transform\r\n",
    "        self.loader = loader\r\n",
    "\r\n",
    "    def __getitem__(self, index):\r\n",
    "        im_path, im_label = self.imgs[index]\r\n",
    "        im_data = self.loader(im_path)\r\n",
    "\r\n",
    "        # 判断是否有数据增强\r\n",
    "        if self.transform is not None:\r\n",
    "            im_data = self.transform(im_data)\r\n",
    "\r\n",
    "        return im_data, im_label\r\n",
    "    \r\n",
    "    def __len__(self):\r\n",
    "        return len(self.imgs)"
   ],
   "outputs": [],
   "metadata": {}
  },
  {
   "cell_type": "code",
   "execution_count": 6,
   "source": [
    "im_train_list = glob.glob(\"dataset/cifar-10/train/*/*.png\")\r\n",
    "\r\n",
    "im_test_list = glob.glob(\"dataset/cifar-10/test/*/*.png\")"
   ],
   "outputs": [],
   "metadata": {}
  },
  {
   "cell_type": "code",
   "execution_count": 15,
   "source": [
    "train_dataset = MyDataset(im_train_list, transform=train_transfrom)\r\n",
    "\r\n",
    "test_dataset = MyDataset(im_test_list, transform=transforms.ToTensor())\r\n",
    "\r\n",
    "# 定义 dataloader\r\n",
    "train_data_loader = DataLoader(dataset=train_dataset,\r\n",
    "                                batch_size=4,\r\n",
    "                                shuffle=True,\r\n",
    "                                num_workers=4)\r\n",
    "\r\n",
    "test_data_loader = DataLoader(dataset=test_dataset,\r\n",
    "                                batch_size=4,\r\n",
    "                                shuffle=False,\r\n",
    "                                num_workers=4)"
   ],
   "outputs": [],
   "metadata": {}
  },
  {
   "cell_type": "code",
   "execution_count": null,
   "source": [
    "print(\"num of train\", len(train_dataset))\r\n",
    "print(\"num of test\", len(test_dataset))"
   ],
   "outputs": [],
   "metadata": {}
  }
 ],
 "metadata": {
  "orig_nbformat": 4,
  "language_info": {
   "name": "python",
   "version": "3.7.9",
   "mimetype": "text/x-python",
   "codemirror_mode": {
    "name": "ipython",
    "version": 3
   },
   "pygments_lexer": "ipython3",
   "nbconvert_exporter": "python",
   "file_extension": ".py"
  },
  "kernelspec": {
   "name": "python3",
   "display_name": "Python 3.7.9 64-bit"
  },
  "interpreter": {
   "hash": "3d35cbbc18e921f4289b81326fbb5964743e7ba8e75824e721831f27f8e98a9e"
  }
 },
 "nbformat": 4,
 "nbformat_minor": 2
}