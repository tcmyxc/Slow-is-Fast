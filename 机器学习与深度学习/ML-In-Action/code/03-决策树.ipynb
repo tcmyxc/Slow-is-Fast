{
 "cells": [
  {
   "cell_type": "markdown",
   "id": "cac3028d",
   "metadata": {},
   "source": [
    "# 决策树"
   ]
  },
  {
   "cell_type": "markdown",
   "id": "fcce0f89",
   "metadata": {},
   "source": [
    "决策树可以使用不熟悉的数据集合，并从中提取出一系列规则\n",
    "\n",
    "优点：\n",
    "- 计算复杂度不高\n",
    "- 输出结果易于理解\n",
    "- 对中间值的缺失不敏感，可以处理不相关的特征数据\n",
    "\n",
    "缺点：\n",
    "- 可能会产生过度匹配问题"
   ]
  },
  {
   "cell_type": "markdown",
   "id": "315307c6",
   "metadata": {},
   "source": [
    "## 计算给定数据集的香农熵\n",
    "\n",
    "计算公式：\n",
    "$H=-\\sum_{i=1}^{n}p(x_{i})\\log_2p(x_{i})$\n",
    "\n",
    "熵是描述数据混乱程度的，越大越混乱"
   ]
  },
  {
   "cell_type": "code",
   "execution_count": 1,
   "id": "3cb858fd",
   "metadata": {},
   "outputs": [],
   "source": [
    "import math\n",
    "\n",
    "def calc_shannon_entropy(dataset):\n",
    "    num_entries = len(dataset)\n",
    "    labels = {}\n",
    "    for feat_vec in dataset:\n",
    "        cur_label = feat_vec[-1]\n",
    "        if cur_label not in labels.keys():\n",
    "            labels[cur_label] = 1\n",
    "        else:\n",
    "            labels[cur_label] += 1\n",
    "        \n",
    "    shannon_entropy = 0.\n",
    "    for key in labels:\n",
    "        prob = float(labels[key]) / num_entries # 以频率代替概率\n",
    "        shannon_entropy -= prob * math.log2(prob)\n",
    "    \n",
    "    return shannon_entropy"
   ]
  },
  {
   "cell_type": "code",
   "execution_count": 2,
   "id": "59ced282",
   "metadata": {},
   "outputs": [],
   "source": [
    "def create_dataset():\n",
    "    dataset = [[1, 1,  \"yes\"],\n",
    "                      [1, 1, \"yes\"],\n",
    "                      [1, 0, \"no\"],\n",
    "                      [0, 1, \"no\"],\n",
    "                      [0, 1, \"no\"]]\n",
    "    labels = [\"no surfacing\", \"flippers\"]\n",
    "    return dataset, labels"
   ]
  },
  {
   "cell_type": "code",
   "execution_count": 3,
   "id": "2402f014",
   "metadata": {},
   "outputs": [],
   "source": [
    "my_dataset, labels = create_dataset()"
   ]
  },
  {
   "cell_type": "code",
   "execution_count": 4,
   "id": "475c37c7",
   "metadata": {},
   "outputs": [
    {
     "data": {
      "text/plain": [
       "[[1, 1, 'yes'], [1, 1, 'yes'], [1, 0, 'no'], [0, 1, 'no'], [0, 1, 'no']]"
      ]
     },
     "execution_count": 4,
     "metadata": {},
     "output_type": "execute_result"
    }
   ],
   "source": [
    "my_dataset"
   ]
  },
  {
   "cell_type": "code",
   "execution_count": 5,
   "id": "53d6afd6",
   "metadata": {},
   "outputs": [
    {
     "data": {
      "text/plain": [
       "0.9709505944546686"
      ]
     },
     "execution_count": 5,
     "metadata": {},
     "output_type": "execute_result"
    }
   ],
   "source": [
    "calc_shannon_entropy(my_dataset)"
   ]
  },
  {
   "cell_type": "code",
   "execution_count": 6,
   "id": "46b9e7e2",
   "metadata": {},
   "outputs": [
    {
     "data": {
      "text/plain": [
       "[[1, 1, 'maybe'], [1, 1, 'yes'], [1, 0, 'no'], [0, 1, 'no'], [0, 1, 'no']]"
      ]
     },
     "execution_count": 6,
     "metadata": {},
     "output_type": "execute_result"
    }
   ],
   "source": [
    "# 添加分类，查看熵的变化\n",
    "my_dataset[0][-1] = \"maybe\"\n",
    "my_dataset"
   ]
  },
  {
   "cell_type": "code",
   "execution_count": 7,
   "id": "8b4c97c5",
   "metadata": {},
   "outputs": [
    {
     "data": {
      "text/plain": [
       "1.3709505944546687"
      ]
     },
     "execution_count": 7,
     "metadata": {},
     "output_type": "execute_result"
    }
   ],
   "source": [
    "calc_shannon_entropy(my_dataset)"
   ]
  },
  {
   "cell_type": "markdown",
   "id": "7067988d",
   "metadata": {},
   "source": [
    "## 划分数据集"
   ]
  },
  {
   "cell_type": "code",
   "execution_count": 8,
   "id": "a1242c22",
   "metadata": {},
   "outputs": [],
   "source": [
    "# 根据给定特征划分数据集\n",
    "def split_dataset(dataset, axis, value):\n",
    "    \"\"\"\n",
    "    根据给定特征划分数据集\n",
    "    dataset：待划分的数据集\n",
    "    axis：划分数据集的特征（也就是第几列）\n",
    "    value：如果这一列上某个值与value相同，则该条记录需返回\n",
    "    \"\"\"\n",
    "    res = []\n",
    "    for feat_vec in dataset:\n",
    "        if feat_vec[axis] == value:\n",
    "            # 下面的两行是抽取数据，同时该特征不能使用了，需要把这一列去掉\n",
    "            reduced_feat_vec = feat_vec[:axis]\n",
    "            reduced_feat_vec.extend(feat_vec[axis+1:])\n",
    "            res.append(reduced_feat_vec)\n",
    "    \n",
    "    return res"
   ]
  },
  {
   "cell_type": "code",
   "execution_count": 9,
   "id": "dacde1b1",
   "metadata": {},
   "outputs": [
    {
     "data": {
      "text/plain": [
       "[[1, 1, 'yes'], [1, 1, 'yes'], [1, 0, 'no'], [0, 1, 'no'], [0, 1, 'no']]"
      ]
     },
     "execution_count": 9,
     "metadata": {},
     "output_type": "execute_result"
    }
   ],
   "source": [
    "my_dataset, labels = create_dataset()\n",
    "my_dataset"
   ]
  },
  {
   "cell_type": "code",
   "execution_count": 10,
   "id": "12b6afe0",
   "metadata": {},
   "outputs": [
    {
     "name": "stdout",
     "output_type": "stream",
     "text": [
      "分支1 [[1, 'no'], [1, 'no']]\n",
      "分支2 [[1, 'yes'], [1, 'yes'], [0, 'no']]\n"
     ]
    }
   ],
   "source": [
    "print(\"分支1\", split_dataset(my_dataset, 0, 0))\n",
    "print(\"分支2\", split_dataset(my_dataset, 0, 1))"
   ]
  },
  {
   "cell_type": "code",
   "execution_count": 11,
   "id": "df95a3c7",
   "metadata": {},
   "outputs": [],
   "source": [
    "# 选择最好的数据集划分方式\n",
    "def choose_best_feature_to_split(dataset):\n",
    "    num_features = len(dataset[0]) - 1# 获取特征数量\n",
    "    base_entropy = calc_shannon_entropy(dataset)# 基本熵\n",
    "#     print(f\"基础信息熵为 {base_entropy}\")\n",
    "    best_info_gain = 0.\n",
    "    best_feature = -1\n",
    "    for i in range(num_features):\n",
    "        feat_list = [example[i] for example in dataset]# 取当前列\n",
    "        unique_vals = set(feat_list)# 去重\n",
    "        \n",
    "        new_entropy = 0.\n",
    "        for val in unique_vals:\n",
    "            sub_dataset = split_dataset(dataset, i, val)# 获取当前特征的分支\n",
    "            prob = len(sub_dataset) / len(dataset)# 计算概率\n",
    "            new_entropy += prob * calc_shannon_entropy(sub_dataset)# 计算单个集合的香农熵，然后累加\n",
    "        \n",
    "        info_gain = base_entropy - new_entropy# 信息增益\n",
    "#         print(f\"第 {i} 列的信息熵为 {new_entropy}，信息增益为 {info_gain}\")\n",
    "        if info_gain > best_info_gain:\n",
    "            best_info_gain = info_gain\n",
    "            best_feature = i\n",
    "    \n",
    "    return best_feature     "
   ]
  },
  {
   "cell_type": "code",
   "execution_count": 12,
   "id": "12e97933",
   "metadata": {},
   "outputs": [
    {
     "data": {
      "text/plain": [
       "[[1, 1, 'yes'], [1, 1, 'yes'], [1, 0, 'no'], [0, 1, 'no'], [0, 1, 'no']]"
      ]
     },
     "execution_count": 12,
     "metadata": {},
     "output_type": "execute_result"
    }
   ],
   "source": [
    "my_dataset, labels = create_dataset()\n",
    "my_dataset"
   ]
  },
  {
   "cell_type": "code",
   "execution_count": 13,
   "id": "a98d0aa4",
   "metadata": {
    "scrolled": true
   },
   "outputs": [
    {
     "name": "stdout",
     "output_type": "stream",
     "text": [
      "最好的特征是第  0  列\n"
     ]
    }
   ],
   "source": [
    "print(\"最好的特征是第 \", choose_best_feature_to_split(my_dataset), \" 列\")"
   ]
  },
  {
   "cell_type": "markdown",
   "id": "68f7021a",
   "metadata": {},
   "source": [
    "## 递归构建决策树"
   ]
  },
  {
   "cell_type": "code",
   "execution_count": 14,
   "id": "cb99a60a",
   "metadata": {},
   "outputs": [],
   "source": [
    "import operator\n",
    "\n",
    "# 返回出现次数最多的分类\n",
    "def majority_cnt(class_list):\n",
    "    class_cnt = {}\n",
    "    for vote in class_list:\n",
    "        if vote not in class_cnt.keys():\n",
    "            class_cnt[vote] = 1\n",
    "        else:\n",
    "            class_cnt[vote] += 1\n",
    "        sorted_class_cnt = sorted(class_cnt.items(), key=operator.itemgetter(1), reverse=True)\n",
    "        return sorted_class_cnt[0][0]"
   ]
  },
  {
   "cell_type": "code",
   "execution_count": 15,
   "id": "d628fa6c",
   "metadata": {},
   "outputs": [],
   "source": [
    "# 创建决策树\n",
    "def create_tree(dataset, labels):\n",
    "    class_list = [example[-1] for example in dataset]\n",
    "    # 类别完全相同\n",
    "    if class_list.count(class_list[0]) == len(class_list):\n",
    "        return class_list[0]\n",
    "    # 只有一个样本了，投票表决分类\n",
    "    if len(dataset) == 1:\n",
    "        return majority_cnt(class_list)\n",
    "    # 选择最优特征\n",
    "    best_feature = choose_best_feature_to_split(dataset)\n",
    "    best_feature_label = labels[best_feature]\n",
    "    my_tree = {best_feature_label:{}}\n",
    "    del(labels[best_feature])# 删除改特征\n",
    "    feature_vals = [example[best_feature] for example in dataset]\n",
    "    unique_vals = set(feature_vals)# 去重\n",
    "    for val in unique_vals:\n",
    "        sub_labels = labels[:]\n",
    "        my_tree[best_feature_label][val] = create_tree(split_dataset(dataset, best_feature, val), sub_labels)\n",
    "    \n",
    "    return my_tree"
   ]
  },
  {
   "cell_type": "code",
   "execution_count": 16,
   "id": "f31a161f",
   "metadata": {},
   "outputs": [
    {
     "data": {
      "text/plain": [
       "{'no surfacing': {0: 'no', 1: {'flippers': {0: 'no', 1: 'yes'}}}}"
      ]
     },
     "execution_count": 16,
     "metadata": {},
     "output_type": "execute_result"
    }
   ],
   "source": [
    "my_dataset, labels = create_dataset()\n",
    "create_tree(my_dataset, labels)"
   ]
  },
  {
   "cell_type": "markdown",
   "id": "64fe0b0c",
   "metadata": {},
   "source": [
    "## 绘制树形图"
   ]
  },
  {
   "cell_type": "code",
   "execution_count": 17,
   "id": "9084dd8c",
   "metadata": {},
   "outputs": [],
   "source": [
    "import matplotlib.pyplot as plt\n",
    "%matplotlib inline\n",
    "\n",
    "decision_node = dict(boxstyle=\"sawtooth\", fc=\"0.8\")\n",
    "leaf_node = dict(boxstyle=\"round4\", fc=\"0.8\")\n",
    "arrow_args = dict(arrowstyle=\"<-\")\n",
    "\n",
    "def plot_node(node_txt, center_pt, parent_pt, node_type):\n",
    "    create_plot.ax1.annotate(node_txt, xy=parent_pt,  xycoords='axes fraction',\n",
    "                             xytext=center_pt, textcoords='axes fraction',\n",
    "                             va=\"center\", ha=\"center\", bbox=node_type, arrowprops=arrow_args )\n",
    "\n",
    "def create_plot():\n",
    "    fig = plt.figure(1, facecolor='white')\n",
    "    fig.clf()\n",
    "    create_plot.ax1 = plt.subplot(111, frameon=False) #ticks for demo puropses \n",
    "    plot_node('决策节点', (0.5, 0.1), (0.1, 0.5), decision_node)\n",
    "    plot_node('叶节点', (0.8, 0.1), (0.3, 0.8), leaf_node)\n",
    "    plt.rcParams[\"font.sans-serif\"]=[\"SimHei\"]#显示中文标签 \n",
    "    plt.rcParams[\"axes.unicode_minus\"]=False\n",
    "    plt.show()"
   ]
  },
  {
   "cell_type": "code",
   "execution_count": 18,
   "id": "defaef97",
   "metadata": {},
   "outputs": [
    {
     "data": {
      "image/png": "[encoded data removed]",
      "text/plain": [
       "<Figure size 432x288 with 1 Axes>"
      ]
     },
     "metadata": {},
     "output_type": "display_data"
    }
   ],
   "source": [
    "create_plot()"
   ]
  },
  {
   "cell_type": "code",
   "execution_count": 19,
   "id": "286fa45a",
   "metadata": {},
   "outputs": [],
   "source": [
    "def get_num_leafs(my_tree):\n",
    "    num_leafs = 0\n",
    "    first_str = list(my_tree.keys())[0]# 这里需要强制转换\n",
    "    second_dict = my_tree[first_str]\n",
    "    for key in second_dict.keys():\n",
    "        if type(second_dict[key]).__name__=='dict':#test to see if the nodes are dictonaires, if not they are leaf nodes\n",
    "            num_leafs += get_num_leafs(second_dict[key])\n",
    "        else:   num_leafs +=1\n",
    "    return num_leafs"
   ]
  },
  {
   "cell_type": "code",
   "execution_count": 20,
   "id": "51483deb",
   "metadata": {},
   "outputs": [],
   "source": [
    "def get_tree_depth(my_tree):\n",
    "    max_depth = 0\n",
    "    first_str = list(my_tree.keys())[0]\n",
    "    second_dict = my_tree[first_str]\n",
    "    for key in second_dict.keys():\n",
    "        if type(second_dict[key]).__name__=='dict':#test to see if the nodes are dictonaires, if not they are leaf nodes\n",
    "            this_depth = 1 + get_tree_depth(second_dict[key])\n",
    "        else:   this_depth = 1\n",
    "        if this_depth > max_depth: max_depth = this_depth\n",
    "    return max_depth"
   ]
  },
  {
   "cell_type": "code",
   "execution_count": 21,
   "id": "043b87d5",
   "metadata": {},
   "outputs": [],
   "source": [
    "def retrieve_tree(i):\n",
    "    list_of_trees =[{'no surfacing': {0: 'no', 1: {'flippers': {0: 'no', 1: 'yes'}}}},\n",
    "                  {'no surfacing': {0: 'no', 1: {'flippers': {0: {'head': {0: 'no', 1: 'yes'}}, 1: 'no'}}}}\n",
    "                  ]\n",
    "    return list_of_trees[i]"
   ]
  },
  {
   "cell_type": "code",
   "execution_count": 22,
   "id": "1237e158",
   "metadata": {},
   "outputs": [
    {
     "data": {
      "text/plain": [
       "{'no surfacing': {0: 'no',\n",
       "  1: {'flippers': {0: {'head': {0: 'no', 1: 'yes'}}, 1: 'no'}}}}"
      ]
     },
     "execution_count": 22,
     "metadata": {},
     "output_type": "execute_result"
    }
   ],
   "source": [
    "retrieve_tree(1)"
   ]
  },
  {
   "cell_type": "code",
   "execution_count": 23,
   "id": "a1a957e5",
   "metadata": {},
   "outputs": [],
   "source": [
    "my_tree = retrieve_tree(0)\n",
    "# list(my_tree.keys())[0]"
   ]
  },
  {
   "cell_type": "code",
   "execution_count": 24,
   "id": "a618b73d",
   "metadata": {},
   "outputs": [
    {
     "data": {
      "text/plain": [
       "3"
      ]
     },
     "execution_count": 24,
     "metadata": {},
     "output_type": "execute_result"
    }
   ],
   "source": [
    "get_num_leafs(my_tree)"
   ]
  },
  {
   "cell_type": "code",
   "execution_count": 25,
   "id": "c29c5e95",
   "metadata": {},
   "outputs": [
    {
     "data": {
      "text/plain": [
       "2"
      ]
     },
     "execution_count": 25,
     "metadata": {},
     "output_type": "execute_result"
    }
   ],
   "source": [
    "get_tree_depth(my_tree)"
   ]
  },
  {
   "cell_type": "code",
   "execution_count": 26,
   "id": "a3d6eed3",
   "metadata": {},
   "outputs": [],
   "source": [
    "def plot_mid_text(cntr_pt, parent_pt, txt_string):\n",
    "    x_mid = (parent_pt[0]-cntr_pt[0])/2.0 + cntr_pt[0]\n",
    "    y_mid = (parent_pt[1]-cntr_pt[1])/2.0 + cntr_pt[1]\n",
    "    create_plot.ax1.text(x_mid, y_mid, txt_string, va=\"center\", ha=\"center\", rotation=30)"
   ]
  },
  {
   "cell_type": "code",
   "execution_count": 27,
   "id": "779bf050",
   "metadata": {},
   "outputs": [],
   "source": [
    "def plot_tree(my_tree, parent_pt, node_txt):#if the first key tells you what feat was split on\n",
    "    num_leafs = get_num_leafs(my_tree)  #this determines the x width of this tree\n",
    "    depth = get_tree_depth(my_tree)\n",
    "    first_str = list(my_tree.keys())[0]    #the text label for this node should be this\n",
    "    cntr_pt = (plot_tree.x_off + (1.0 + float(num_leafs))/2.0/plot_tree.total_w, plot_tree.y_off)\n",
    "    plot_mid_text(cntr_pt, parent_pt, node_txt)\n",
    "    plot_node(first_str, cntr_pt, parent_pt, decision_node)\n",
    "    second_dict = my_tree[first_str]\n",
    "    plot_tree.y_off = plot_tree.y_off - 1.0/plot_tree.total_d\n",
    "    for key in second_dict.keys():\n",
    "        if type(second_dict[key]).__name__=='dict':#test to see if the nodes are dictonaires, if not they are leaf nodes   \n",
    "            plot_tree(second_dict[key],cntr_pt,str(key))        #recursion\n",
    "        else:   #it's a leaf node print the leaf node\n",
    "            plot_tree.x_off = plot_tree.x_off + 1.0/plot_tree.total_w\n",
    "            plot_node(second_dict[key], (plot_tree.x_off, plot_tree.y_off), cntr_pt, leaf_node)\n",
    "            plot_mid_text((plot_tree.x_off, plot_tree.y_off), cntr_pt, str(key))\n",
    "    plot_tree.y_off = plot_tree.y_off + 1.0/plot_tree.total_d"
   ]
  },
  {
   "cell_type": "code",
   "execution_count": 28,
   "id": "fd6b72db",
   "metadata": {},
   "outputs": [],
   "source": [
    "def create_plot(in_tree):\n",
    "    fig = plt.figure(1, facecolor='white')\n",
    "    fig.clf()\n",
    "    axprops = dict(xticks=[], yticks=[])\n",
    "    create_plot.ax1 = plt.subplot(111, frameon=False, **axprops)    #no ticks\n",
    "    #create_plot.ax1 = plt.subplot(111, frameon=False) #ticks for demo puropses \n",
    "    plot_tree.total_w = float(get_num_leafs(in_tree))\n",
    "    plot_tree.total_d = float(get_tree_depth(in_tree))\n",
    "    plot_tree.x_off = -0.5/plot_tree.total_w\n",
    "    plot_tree.y_off = 1.0;\n",
    "    plot_tree(in_tree, (0.5,1.0), '')\n",
    "    plt.show()"
   ]
  },
  {
   "cell_type": "code",
   "execution_count": 29,
   "id": "3af2d1ad",
   "metadata": {},
   "outputs": [],
   "source": [
    "my_tree = retrieve_tree(0)"
   ]
  },
  {
   "cell_type": "code",
   "execution_count": 30,
   "id": "eae5c3c0",
   "metadata": {},
   "outputs": [
    {
     "data": {
      "image/png": "[encoded data removed]",
      "text/plain": [
       "<Figure size 432x288 with 1 Axes>"
      ]
     },
     "metadata": {},
     "output_type": "display_data"
    }
   ],
   "source": [
    "create_plot(my_tree)"
   ]
  },
  {
   "cell_type": "code",
   "execution_count": 31,
   "id": "945f3424",
   "metadata": {},
   "outputs": [
    {
     "data": {
      "text/plain": [
       "{'no surfacing': {0: 'no',\n",
       "  1: {'flippers': {0: 'no', 1: 'yes'}},\n",
       "  2: 'unknown',\n",
       "  3: 'maybe'}}"
      ]
     },
     "execution_count": 31,
     "metadata": {},
     "output_type": "execute_result"
    }
   ],
   "source": [
    "my_tree[\"no surfacing\"][2] = \"unknown\"\n",
    "my_tree[\"no surfacing\"][3] = \"maybe\"\n",
    "my_tree"
   ]
  },
  {
   "cell_type": "code",
   "execution_count": 32,
   "id": "a2020307",
   "metadata": {},
   "outputs": [
    {
     "data": {
      "image/png": "[encoded data removed]",
      "text/plain": [
       "<Figure size 432x288 with 1 Axes>"
      ]
     },
     "metadata": {},
     "output_type": "display_data"
    }
   ],
   "source": [
    "create_plot(my_tree)"
   ]
  },
  {
   "cell_type": "markdown",
   "id": "271dcc4d",
   "metadata": {},
   "source": [
    "## 使用决策树进行分类"
   ]
  },
  {
   "cell_type": "code",
   "execution_count": 33,
   "id": "1cde3873",
   "metadata": {},
   "outputs": [],
   "source": [
    "# 根据给定的编码从树中查询所属类别\n",
    "def classify(input_tree, feature_lables, test_vec):\n",
    "    first_str = list(input_tree.keys())[0]# 这里需要强制转换\n",
    "    second_dict = input_tree[first_str]\n",
    "    feature_index = feature_lables.index(first_str)\n",
    "    for key in second_dict.keys():\n",
    "        if test_vec[feature_index] == key:\n",
    "            if type(second_dict[key]).__name__ == 'dict':# test to see if the nodes are dictonaires, if not they are leaf nodes\n",
    "                class_label = classify(second_dict[key], feature_lables, test_vec)\n",
    "            else:   \n",
    "                class_label = second_dict[key]\n",
    "    return class_label"
   ]
  },
  {
   "cell_type": "code",
   "execution_count": 34,
   "id": "bcd9d391",
   "metadata": {},
   "outputs": [],
   "source": [
    "my_dataset, labels = create_dataset()"
   ]
  },
  {
   "cell_type": "code",
   "execution_count": 35,
   "id": "417db57b",
   "metadata": {},
   "outputs": [
    {
     "data": {
      "text/plain": [
       "['no surfacing', 'flippers']"
      ]
     },
     "execution_count": 35,
     "metadata": {},
     "output_type": "execute_result"
    }
   ],
   "source": [
    "labels"
   ]
  },
  {
   "cell_type": "code",
   "execution_count": 36,
   "id": "625c4c46",
   "metadata": {},
   "outputs": [
    {
     "data": {
      "text/plain": [
       "{'no surfacing': {0: 'no', 1: {'flippers': {0: 'no', 1: 'yes'}}}}"
      ]
     },
     "execution_count": 36,
     "metadata": {},
     "output_type": "execute_result"
    }
   ],
   "source": [
    "my_tree = retrieve_tree(0)\n",
    "my_tree"
   ]
  },
  {
   "cell_type": "code",
   "execution_count": 37,
   "id": "f2721249",
   "metadata": {},
   "outputs": [
    {
     "data": {
      "text/plain": [
       "'no'"
      ]
     },
     "execution_count": 37,
     "metadata": {},
     "output_type": "execute_result"
    }
   ],
   "source": [
    "classify(my_tree, labels, [1, 0])"
   ]
  },
  {
   "cell_type": "code",
   "execution_count": 38,
   "id": "74f0a37b",
   "metadata": {},
   "outputs": [
    {
     "data": {
      "text/plain": [
       "'yes'"
      ]
     },
     "execution_count": 38,
     "metadata": {},
     "output_type": "execute_result"
    }
   ],
   "source": [
    "classify(my_tree, labels, [1, 1])"
   ]
  },
  {
   "cell_type": "markdown",
   "id": "ab5de32d",
   "metadata": {},
   "source": [
    "## 决策树持久化"
   ]
  },
  {
   "cell_type": "code",
   "execution_count": 39,
   "id": "1335a0bd",
   "metadata": {},
   "outputs": [],
   "source": [
    "import pickle\n",
    "\n",
    "# 存储决策树\n",
    "def store_tree(input_tree, filename):\n",
    "    fw = open(filename, \"wb\")\n",
    "    pickle.dump(input_tree, fw)\n",
    "    fw.close()"
   ]
  },
  {
   "cell_type": "code",
   "execution_count": 40,
   "id": "18634b52",
   "metadata": {},
   "outputs": [],
   "source": [
    "# 从文件读取决策树    \n",
    "def grab_tree(filename):\n",
    "    fr = open(filename, \"rb\")\n",
    "    res = pickle.load(fr)\n",
    "    fr.close()\n",
    "    return res"
   ]
  },
  {
   "cell_type": "code",
   "execution_count": 41,
   "id": "7ad87eec",
   "metadata": {},
   "outputs": [
    {
     "data": {
      "text/plain": [
       "{'no surfacing': {0: 'no', 1: {'flippers': {0: 'no', 1: 'yes'}}}}"
      ]
     },
     "execution_count": 41,
     "metadata": {},
     "output_type": "execute_result"
    }
   ],
   "source": [
    "my_tree = retrieve_tree(0)\n",
    "my_tree"
   ]
  },
  {
   "cell_type": "code",
   "execution_count": 42,
   "id": "ff15efc4",
   "metadata": {},
   "outputs": [],
   "source": [
    "store_tree(my_tree, \"dump_tree.txt\")"
   ]
  },
  {
   "cell_type": "code",
   "execution_count": 43,
   "id": "874a0ef0",
   "metadata": {},
   "outputs": [
    {
     "data": {
      "text/plain": [
       "{'no surfacing': {0: 'no', 1: {'flippers': {0: 'no', 1: 'yes'}}}}"
      ]
     },
     "execution_count": 43,
     "metadata": {},
     "output_type": "execute_result"
    }
   ],
   "source": [
    "grab_tree(\"dump_tree.txt\")"
   ]
  },
  {
   "cell_type": "markdown",
   "id": "0b6de03e",
   "metadata": {},
   "source": [
    "# 使用决策树预测隐形眼镜类型"
   ]
  },
  {
   "cell_type": "code",
   "execution_count": 44,
   "id": "3882e68c",
   "metadata": {},
   "outputs": [
    {
     "data": {
      "text/plain": [
       "[['young', 'myope', 'no', 'reduced', 'no lenses'],\n",
       " ['young', 'myope', 'no', 'normal', 'soft'],\n",
       " ['young', 'myope', 'yes', 'reduced', 'no lenses'],\n",
       " ['young', 'myope', 'yes', 'normal', 'hard'],\n",
       " ['young', 'hyper', 'no', 'reduced', 'no lenses'],\n",
       " ['young', 'hyper', 'no', 'normal', 'soft'],\n",
       " ['young', 'hyper', 'yes', 'reduced', 'no lenses'],\n",
       " ['young', 'hyper', 'yes', 'normal', 'hard'],\n",
       " ['pre', 'myope', 'no', 'reduced', 'no lenses'],\n",
       " ['pre', 'myope', 'no', 'normal', 'soft'],\n",
       " ['pre', 'myope', 'yes', 'reduced', 'no lenses'],\n",
       " ['pre', 'myope', 'yes', 'normal', 'hard'],\n",
       " ['pre', 'hyper', 'no', 'reduced', 'no lenses'],\n",
       " ['pre', 'hyper', 'no', 'normal', 'soft'],\n",
       " ['pre', 'hyper', 'yes', 'reduced', 'no lenses'],\n",
       " ['pre', 'hyper', 'yes', 'normal', 'no lenses'],\n",
       " ['presbyopic', 'myope', 'no', 'reduced', 'no lenses'],\n",
       " ['presbyopic', 'myope', 'no', 'normal', 'no lenses'],\n",
       " ['presbyopic', 'myope', 'yes', 'reduced', 'no lenses'],\n",
       " ['presbyopic', 'myope', 'yes', 'normal', 'hard'],\n",
       " ['presbyopic', 'hyper', 'no', 'reduced', 'no lenses'],\n",
       " ['presbyopic', 'hyper', 'no', 'normal', 'soft'],\n",
       " ['presbyopic', 'hyper', 'yes', 'reduced', 'no lenses'],\n",
       " ['presbyopic', 'hyper', 'yes', 'normal', 'no lenses']]"
      ]
     },
     "execution_count": 44,
     "metadata": {},
     "output_type": "execute_result"
    }
   ],
   "source": [
    "fp = open(\"dataset/lenses.txt\")\n",
    "lenses =[example.strip().split(\"\\t\") for example in fp.readlines()]\n",
    "fp.close()\n",
    "\n",
    "lenses"
   ]
  },
  {
   "cell_type": "code",
   "execution_count": 45,
   "id": "e21fc57a",
   "metadata": {},
   "outputs": [],
   "source": [
    "lenses_labels = [\"age\", \"prescript\", \"astigmatic\", \"tearRate\"]# 用来分类的特征"
   ]
  },
  {
   "cell_type": "code",
   "execution_count": 46,
   "id": "ef926e6c",
   "metadata": {},
   "outputs": [],
   "source": [
    "lense_tree = create_tree(lenses, lenses_labels.copy())"
   ]
  },
  {
   "cell_type": "code",
   "execution_count": 47,
   "id": "586b0c42",
   "metadata": {},
   "outputs": [
    {
     "data": {
      "text/plain": [
       "{'tearRate': {'reduced': 'no lenses',\n",
       "  'normal': {'astigmatic': {'no': {'age': {'young': 'soft',\n",
       "      'presbyopic': {'prescript': {'hyper': 'soft', 'myope': 'no lenses'}},\n",
       "      'pre': 'soft'}},\n",
       "    'yes': {'prescript': {'hyper': {'age': {'young': 'hard',\n",
       "        'presbyopic': 'no lenses',\n",
       "        'pre': 'no lenses'}},\n",
       "      'myope': 'hard'}}}}}}"
      ]
     },
     "execution_count": 47,
     "metadata": {},
     "output_type": "execute_result"
    }
   ],
   "source": [
    "lense_tree"
   ]
  },
  {
   "cell_type": "code",
   "execution_count": 48,
   "id": "9f9eb87f",
   "metadata": {},
   "outputs": [],
   "source": [
    "store_tree(lense_tree, \"dump_lense_tree.txt\")"
   ]
  },
  {
   "cell_type": "code",
   "execution_count": 49,
   "id": "785cb629",
   "metadata": {},
   "outputs": [
    {
     "data": {
      "text/plain": [
       "{'tearRate': {'reduced': 'no lenses',\n",
       "  'normal': {'astigmatic': {'no': {'age': {'young': 'soft',\n",
       "      'presbyopic': {'prescript': {'hyper': 'soft', 'myope': 'no lenses'}},\n",
       "      'pre': 'soft'}},\n",
       "    'yes': {'prescript': {'hyper': {'age': {'young': 'hard',\n",
       "        'presbyopic': 'no lenses',\n",
       "        'pre': 'no lenses'}},\n",
       "      'myope': 'hard'}}}}}}"
      ]
     },
     "execution_count": 49,
     "metadata": {},
     "output_type": "execute_result"
    }
   ],
   "source": [
    "grab_tree(\"dump_lense_tree.txt\")"
   ]
  },
  {
   "cell_type": "code",
   "execution_count": 50,
   "id": "867c82e3",
   "metadata": {},
   "outputs": [
    {
     "data": {
      "image/png": "[encoded data removed]",
      "text/plain": [
       "<Figure size 432x288 with 1 Axes>"
      ]
     },
     "metadata": {},
     "output_type": "display_data"
    }
   ],
   "source": [
    "create_plot(lense_tree)"
   ]
  }
 ],
 "metadata": {
  "kernelspec": {
   "display_name": "Python 3",
   "language": "python",
   "name": "python3"
  },
  "language_info": {
   "codemirror_mode": {
    "name": "ipython",
    "version": 3
   },
   "file_extension": ".py",
   "mimetype": "text/x-python",
   "name": "python",
   "nbconvert_exporter": "python",
   "pygments_lexer": "ipython3",
   "version": "3.7.9"
  },
  "nbTranslate": {
   "displayLangs": [
    "zh-cn",
    "en"
   ],
   "hotkey": "alt-t",
   "langInMainMenu": true,
   "sourceLang": "en",
   "targetLang": "zh-cn",
   "useGoogleTranslate": true
  },
  "toc": {
   "base_numbering": 1,
   "nav_menu": {},
   "number_sections": true,
   "sideBar": true,
   "skip_h1_title": false,
   "title_cell": "Table of Contents",
   "title_sidebar": "Contents",
   "toc_cell": false,
   "toc_position": {
    "height": "calc(100% - 180px)",
    "left": "10px",
    "top": "150px",
    "width": "219.429px"
   },
   "toc_section_display": true,
   "toc_window_display": true
  }
 },
 "nbformat": 4,
 "nbformat_minor": 5
}
