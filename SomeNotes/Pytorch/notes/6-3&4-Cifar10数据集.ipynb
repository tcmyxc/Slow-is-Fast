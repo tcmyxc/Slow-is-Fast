{
 "cells": [
  {
   "cell_type": "markdown",
   "source": [
    "# Cifar10 数据集\r\n",
    "\r\n",
    "> 官网：http://www.cs.toronto.edu/~kriz/cifar.html\r\n",
    "\r\n",
    "该数据集共有60000张彩色图像，这些图像是32*32，分为10个类，每类6000张图。\r\n",
    "这里面有50000张用于训练，另外10000用于测试。\r\n",
    "\r\n",
    "<img src=\"images/img-2021-07-25-10-38-37.png\" width=\"30%\">\r\n",
    "\r\n",
    "一定要看图，这样才能知道哪些图片识别错了，原因是什么，这样才能进一步优化模型的性能"
   ],
   "metadata": {}
  },
  {
   "cell_type": "code",
   "execution_count": 1,
   "source": [
    "import os\r\n",
    "import cv2\r\n",
    "import numpy as np\r\n",
    "import glob\r\n",
    "from matplotlib import pyplot as plt\r\n",
    "\r\n",
    "%matplotlib inline"
   ],
   "outputs": [],
   "metadata": {}
  },
  {
   "cell_type": "code",
   "execution_count": 2,
   "source": [
    "# Cifar10 官网辅助函数\r\n",
    "def unpickle(file):\r\n",
    "    import pickle\r\n",
    "    with open(file, 'rb') as fo:\r\n",
    "        dict = pickle.load(fo, encoding='bytes')\r\n",
    "    return dict"
   ],
   "outputs": [],
   "metadata": {}
  },
  {
   "cell_type": "code",
   "execution_count": 4,
   "source": [
    "label_name = [\"airplane\", \"automobile\", \"bird\", \"cat\", \"deer\",\r\n",
    "            \"dog\", \"frog\", \"horse\", \"ship\", \"truck\"]"
   ],
   "outputs": [],
   "metadata": {}
  },
  {
   "cell_type": "code",
   "execution_count": 5,
   "source": [
    "train_list = glob.glob(\"dataset/cifar-10/data_batch_*\")\r\n",
    "test_list = glob.glob(\"dataset/cifar-10/test_batch\")"
   ],
   "outputs": [],
   "metadata": {}
  },
  {
   "cell_type": "code",
   "execution_count": 6,
   "source": [
    "train_list"
   ],
   "outputs": [
    {
     "output_type": "execute_result",
     "data": {
      "text/plain": [
       "['dataset/cifar-10\\\\data_batch_1',\n",
       " 'dataset/cifar-10\\\\data_batch_2',\n",
       " 'dataset/cifar-10\\\\data_batch_3',\n",
       " 'dataset/cifar-10\\\\data_batch_4',\n",
       " 'dataset/cifar-10\\\\data_batch_5']"
      ]
     },
     "metadata": {},
     "execution_count": 6
    }
   ],
   "metadata": {}
  },
  {
   "cell_type": "code",
   "execution_count": 8,
   "source": [
    "test_list"
   ],
   "outputs": [
    {
     "output_type": "execute_result",
     "data": {
      "text/plain": [
       "['dataset/cifar-10/test_batch']"
      ]
     },
     "metadata": {},
     "execution_count": 8
    }
   ],
   "metadata": {}
  },
  {
   "cell_type": "code",
   "execution_count": 7,
   "source": [
    "sava_path = \"dataset/cifar-10/train\"\r\n",
    "for l in train_list:\r\n",
    "    l_dict = unpickle(l)\r\n",
    "    # print(l_dict)\r\n",
    "    print(l_dict.keys())\r\n",
    "\r\n",
    "    for im_idx, im_data in enumerate(l_dict[b'data']):\r\n",
    "        # print(im_idx)\r\n",
    "        # print(im_data) # 图片数据是个向量，需要 reshape\r\n",
    "\r\n",
    "        im_label = l_dict[b'labels'][im_idx] # 图片标签\r\n",
    "        im_name = l_dict[b'filenames'][im_idx] # 图片数据\r\n",
    "\r\n",
    "        # print(im_idx, im_label, im_name, im_data)\r\n",
    "        im_label_name = label_name[im_label] # 标签的名字\r\n",
    "        im_data = np.reshape(im_data, [3, 32, 32]) # 这个数据集通道在最前面\r\n",
    "        # 把通道放到后面\r\n",
    "        im_data = np.transpose(im_data, [1, 2, 0])\r\n",
    "        # 通过 opencv 可视化\r\n",
    "        # cv2.imshow(\"im_data\", im_data)\r\n",
    "        # cv2.waitKey(0)\r\n",
    "\r\n",
    "        # 判断是否有相应的文件夹，没有则创建\r\n",
    "        if not os.path.exists(f\"{sava_path}/{im_label_name}\"):\r\n",
    "            os.mkdir(f\"{sava_path}/{im_label_name}\")\r\n",
    "        \r\n",
    "        # 写入图片\r\n",
    "        cv2.imwrite(f\"{sava_path}/{im_label_name}/{im_name.decode('utf-8')}\", \r\n",
    "                        im_data)"
   ],
   "outputs": [
    {
     "output_type": "stream",
     "name": "stdout",
     "text": [
      "dict_keys([b'batch_label', b'labels', b'data', b'filenames'])\n",
      "dict_keys([b'batch_label', b'labels', b'data', b'filenames'])\n",
      "dict_keys([b'batch_label', b'labels', b'data', b'filenames'])\n",
      "dict_keys([b'batch_label', b'labels', b'data', b'filenames'])\n",
      "dict_keys([b'batch_label', b'labels', b'data', b'filenames'])\n"
     ]
    }
   ],
   "metadata": {}
  },
  {
   "cell_type": "code",
   "execution_count": 9,
   "source": [
    "sava_path = \"dataset/cifar-10/test\"\r\n",
    "for l in test_list:\r\n",
    "    l_dict = unpickle(l)\r\n",
    "    # print(l_dict)\r\n",
    "    print(l_dict.keys())\r\n",
    "\r\n",
    "    for im_idx, im_data in enumerate(l_dict[b'data']):\r\n",
    "        # print(im_idx)\r\n",
    "        # print(im_data) # 图片数据是个向量，需要 reshape\r\n",
    "\r\n",
    "        im_label = l_dict[b'labels'][im_idx] # 图片标签\r\n",
    "        im_name = l_dict[b'filenames'][im_idx] # 图片数据\r\n",
    "\r\n",
    "        # print(im_idx, im_label, im_name, im_data)\r\n",
    "        im_label_name = label_name[im_label] # 标签的名字\r\n",
    "        im_data = np.reshape(im_data, [3, 32, 32]) # 这个数据集通道在最前面\r\n",
    "        # 把通道放到后面\r\n",
    "        im_data = np.transpose(im_data, [1, 2, 0])\r\n",
    "        # 通过 opencv 可视化\r\n",
    "        cv2.imshow(\"im_data\", im_data)\r\n",
    "        cv2.waitKey(0)\r\n",
    "\r\n",
    "        # 判断是否有相应的文件夹，没有则创建\r\n",
    "        if not os.path.exists(f\"{sava_path}/{im_label_name}\"):\r\n",
    "            os.mkdir(f\"{sava_path}/{im_label_name}\")\r\n",
    "        \r\n",
    "        # 写入图片\r\n",
    "        cv2.imwrite(f\"{sava_path}/{im_label_name}/{im_name.decode('utf-8')}\", \r\n",
    "                        im_data)"
   ],
   "outputs": [
    {
     "output_type": "stream",
     "name": "stdout",
     "text": [
      "dict_keys([b'batch_label', b'labels', b'data', b'filenames'])\n"
     ]
    }
   ],
   "metadata": {}
  }
 ],
 "metadata": {
  "orig_nbformat": 4,
  "language_info": {
   "name": "python",
   "version": "3.7.9",
   "mimetype": "text/x-python",
   "codemirror_mode": {
    "name": "ipython",
    "version": 3
   },
   "pygments_lexer": "ipython3",
   "nbconvert_exporter": "python",
   "file_extension": ".py"
  },
  "kernelspec": {
   "name": "python3",
   "display_name": "Python 3.7.9 64-bit"
  },
  "interpreter": {
   "hash": "3d35cbbc18e921f4289b81326fbb5964743e7ba8e75824e721831f27f8e98a9e"
  }
 },
 "nbformat": 4,
 "nbformat_minor": 2
}