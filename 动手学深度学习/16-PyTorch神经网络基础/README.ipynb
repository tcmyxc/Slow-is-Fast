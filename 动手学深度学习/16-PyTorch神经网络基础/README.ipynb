{
 "cells": [
  {
   "cell_type": "code",
   "execution_count": 1,
   "id": "7656e05e",
   "metadata": {},
   "outputs": [],
   "source": [
    "import torch\n",
    "from torch import nn\n",
    "from torch.nn import functional as F"
   ]
  },
  {
   "cell_type": "markdown",
   "id": "bd4c4692",
   "metadata": {},
   "source": [
    "简单的多层感知机"
   ]
  },
  {
   "cell_type": "code",
   "execution_count": 2,
   "id": "d484fb9e",
   "metadata": {},
   "outputs": [
    {
     "data": {
      "text/plain": [
       "tensor([[-0.0859,  0.0391, -0.1643,  0.0753,  0.1324, -0.1308, -0.0905,  0.0554,\n",
       "         -0.0992, -0.0277],\n",
       "        [-0.0037, -0.0202, -0.2049,  0.1059,  0.1655, -0.1099, -0.0697,  0.0958,\n",
       "         -0.0721,  0.0128]], grad_fn=<AddmmBackward>)"
      ]
     },
     "execution_count": 2,
     "metadata": {},
     "output_type": "execute_result"
    }
   ],
   "source": [
    "net = nn.Sequential(nn.Linear(20, 256),\n",
    "                   nn.ReLU(),\n",
    "                   nn.Linear(256, 10))\n",
    "\n",
    "X = torch.rand(2, 20)\n",
    "net(X)"
   ]
  },
  {
   "cell_type": "code",
   "execution_count": 3,
   "id": "9e0a0674",
   "metadata": {},
   "outputs": [],
   "source": [
    "class MLP(nn.Module):\n",
    "    def __init__(self):\n",
    "        super().__init__()\n",
    "        self.hidden = nn.Linear(20, 256)\n",
    "        self.out = nn.Linear(256, 10)\n",
    "        \n",
    "    def forward(self, X):\n",
    "        # out = self.hidden(X)\n",
    "        # out = F.relu(out)\n",
    "        # out = self.out(out)\n",
    "        # return out\n",
    "        \n",
    "        return self.out(F.relu(self.hidden(X)))"
   ]
  },
  {
   "cell_type": "code",
   "execution_count": 4,
   "id": "b1050520",
   "metadata": {},
   "outputs": [
    {
     "data": {
      "text/plain": [
       "tensor([[-2.1665e-01,  2.0091e-01, -2.0975e-02,  2.8544e-01, -2.5341e-02,\n",
       "         -2.4074e-01, -5.1555e-02,  7.7062e-02, -4.9893e-03, -1.4372e-01],\n",
       "        [-1.9121e-01,  1.0735e-01, -6.4942e-02,  3.0791e-01,  1.1672e-01,\n",
       "         -8.9714e-02, -1.4971e-01,  1.2111e-02, -9.7262e-02, -2.2612e-04]],\n",
       "       grad_fn=<AddmmBackward>)"
      ]
     },
     "execution_count": 4,
     "metadata": {},
     "output_type": "execute_result"
    }
   ],
   "source": [
    "net = MLP()\n",
    "net(X)"
   ]
  },
  {
   "cell_type": "markdown",
   "id": "0728a866",
   "metadata": {},
   "source": [
    "## 参数管理"
   ]
  },
  {
   "cell_type": "code",
   "execution_count": 5,
   "id": "4cf6e471",
   "metadata": {},
   "outputs": [
    {
     "data": {
      "text/plain": [
       "tensor([[ 0.0019],\n",
       "        [-0.0061]], grad_fn=<AddmmBackward>)"
      ]
     },
     "execution_count": 5,
     "metadata": {},
     "output_type": "execute_result"
    }
   ],
   "source": [
    "net = nn.Sequential(nn.Linear(2, 4),# net[0]\n",
    "                   nn.ReLU(),# net[1]\n",
    "                   nn.Linear(4, 1))# net[2]\n",
    "\n",
    "X = torch.rand(2, 2)\n",
    "net(X)"
   ]
  },
  {
   "cell_type": "code",
   "execution_count": 6,
   "id": "82ad8017",
   "metadata": {},
   "outputs": [
    {
     "data": {
      "text/plain": [
       "OrderedDict([('weight', tensor([[ 0.2348,  0.3318, -0.1737,  0.3665]])),\n",
       "             ('bias', tensor([-0.1129]))])"
      ]
     },
     "execution_count": 6,
     "metadata": {},
     "output_type": "execute_result"
    }
   ],
   "source": [
    "net[2].state_dict()# 查看参数"
   ]
  },
  {
   "cell_type": "code",
   "execution_count": 7,
   "id": "1c7b7428",
   "metadata": {},
   "outputs": [
    {
     "name": "stdout",
     "output_type": "stream",
     "text": [
      "<class 'torch.nn.parameter.Parameter'>\n",
      "Parameter containing:\n",
      "tensor([-0.1129], requires_grad=True)\n",
      "tensor([-0.1129])\n"
     ]
    }
   ],
   "source": [
    "print(type(net[2].bias))\n",
    "print(net[2].bias)\n",
    "print(net[2].bias.data)"
   ]
  },
  {
   "cell_type": "markdown",
   "id": "3dcd598c",
   "metadata": {},
   "source": [
    "一次性查看所有参数"
   ]
  },
  {
   "cell_type": "code",
   "execution_count": 8,
   "id": "7d54eb69",
   "metadata": {},
   "outputs": [
    {
     "name": "stdout",
     "output_type": "stream",
     "text": [
      "('0.weight', torch.Size([4, 2])) ('0.bias', torch.Size([4])) ('2.weight', torch.Size([1, 4])) ('2.bias', torch.Size([1]))\n"
     ]
    }
   ],
   "source": [
    "print(*[(name, param.shape) for name, param in net.named_parameters()])# relu层没有参数的"
   ]
  },
  {
   "cell_type": "markdown",
   "id": "f7218cd6",
   "metadata": {},
   "source": [
    "嵌套block"
   ]
  },
  {
   "cell_type": "code",
   "execution_count": 9,
   "id": "05123096",
   "metadata": {},
   "outputs": [
    {
     "data": {
      "text/plain": [
       "Sequential(\n",
       "  (0): Sequential(\n",
       "    (block 0): Sequential(\n",
       "      (0): Linear(in_features=2, out_features=4, bias=True)\n",
       "      (1): ReLU()\n",
       "      (2): Linear(in_features=4, out_features=2, bias=True)\n",
       "    )\n",
       "    (block 1): Sequential(\n",
       "      (0): Linear(in_features=2, out_features=4, bias=True)\n",
       "      (1): ReLU()\n",
       "      (2): Linear(in_features=4, out_features=2, bias=True)\n",
       "    )\n",
       "    (block 2): Sequential(\n",
       "      (0): Linear(in_features=2, out_features=4, bias=True)\n",
       "      (1): ReLU()\n",
       "      (2): Linear(in_features=4, out_features=2, bias=True)\n",
       "    )\n",
       "    (block 3): Sequential(\n",
       "      (0): Linear(in_features=2, out_features=4, bias=True)\n",
       "      (1): ReLU()\n",
       "      (2): Linear(in_features=4, out_features=2, bias=True)\n",
       "    )\n",
       "  )\n",
       "  (1): Linear(in_features=2, out_features=1, bias=True)\n",
       ")"
      ]
     },
     "execution_count": 9,
     "metadata": {},
     "output_type": "execute_result"
    }
   ],
   "source": [
    "def block1():\n",
    "    return nn.Sequential(nn.Linear(2, 4), nn.ReLU(), nn.Linear(4, 2))\n",
    "\n",
    "def block2():\n",
    "    net = nn.Sequential()\n",
    "    for i in range(4):\n",
    "        net.add_module(f'block {i}', block1())\n",
    "        \n",
    "    return net\n",
    "\n",
    "net = nn.Sequential(block2(), nn.Linear(2, 1))\n",
    "net"
   ]
  },
  {
   "cell_type": "markdown",
   "id": "ae3331c5",
   "metadata": {},
   "source": [
    "参数共享"
   ]
  },
  {
   "cell_type": "code",
   "execution_count": 10,
   "id": "29954e29",
   "metadata": {},
   "outputs": [
    {
     "name": "stdout",
     "output_type": "stream",
     "text": [
      "tensor([True, True, True, True, True, True, True, True])\n",
      "tensor([True, True, True, True, True, True, True, True])\n"
     ]
    }
   ],
   "source": [
    "shared = nn.Linear(8, 8)\n",
    "net = nn.Sequential(\n",
    "    nn.Linear(4, 8), nn.ReLU(),\n",
    "    shared, nn.ReLU(),\n",
    "    shared, nn.ReLU(), \n",
    "    nn.Linear(8, 1))\n",
    "\n",
    "net(torch.rand(2, 4))\n",
    "print(net[2].weight.data[0] == net[4].weight.data[0])\n",
    "net[2].weight.data[0][0] = 100 # 修改值\n",
    "print(net[2].weight.data[0] == net[4].weight.data[0])# 可以看到参数还是一样的"
   ]
  }
 ],
 "metadata": {
  "kernelspec": {
   "display_name": "Python 3",
   "language": "python",
   "name": "python3"
  },
  "language_info": {
   "codemirror_mode": {
    "name": "ipython",
    "version": 3
   },
   "file_extension": ".py",
   "mimetype": "text/x-python",
   "name": "python",
   "nbconvert_exporter": "python",
   "pygments_lexer": "ipython3",
   "version": "3.7.9"
  }
 },
 "nbformat": 4,
 "nbformat_minor": 5
}
