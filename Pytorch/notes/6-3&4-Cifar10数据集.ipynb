{
 "cells": [
  {
   "cell_type": "markdown",
   "metadata": {},
   "source": [
    "# Cifar10 数据集\n",
    "\n",
    "> 官网：http://www.cs.toronto.edu/~kriz/cifar.html\n",
    "\n",
    "该数据集共有60000张彩色图像，这些图像是32*32，分为10个类，每类6000张图。\n",
    "这里面有50000张用于训练，另外10000用于测试。\n",
    "\n",
    "<img src=\"images/img-2021-07-25-10-38-37.png\" width=\"30%\">\n",
    "\n",
    "一定要看图，这样才能知道哪些图片识别错了，原因是什么，这样才能进一步优化模型的性能"
   ]
  },
  {
   "cell_type": "code",
   "execution_count": 1,
   "metadata": {},
   "outputs": [],
   "source": [
    "import os\n",
    "import cv2\n",
    "import numpy as np\n",
    "import glob\n",
    "from matplotlib import pyplot as plt\n",
    "\n",
    "%matplotlib inline"
   ]
  },
  {
   "cell_type": "code",
   "execution_count": 2,
   "metadata": {},
   "outputs": [],
   "source": [
    "# Cifar10 官网辅助函数\n",
    "def unpickle(file):\n",
    "    import pickle\n",
    "    with open(file, 'rb') as fo:\n",
    "        dict = pickle.load(fo, encoding='bytes')\n",
    "    return dict"
   ]
  },
  {
   "cell_type": "code",
   "execution_count": 4,
   "metadata": {},
   "outputs": [],
   "source": [
    "label_name = [\"airplane\", \"automobile\", \"bird\", \"cat\", \"deer\",\n",
    "            \"dog\", \"frog\", \"horse\", \"ship\", \"truck\"]"
   ]
  },
  {
   "cell_type": "code",
   "execution_count": 5,
   "metadata": {},
   "outputs": [],
   "source": [
    "train_list = glob.glob(\"dataset/cifar-10/data_batch_*\")\n",
    "test_list = glob.glob(\"dataset/cifar-10/test_batch\")"
   ]
  },
  {
   "cell_type": "code",
   "execution_count": 6,
   "metadata": {},
   "outputs": [
    {
     "data": {
      "text/plain": [
       "['dataset/cifar-10\\\\data_batch_1',\n",
       " 'dataset/cifar-10\\\\data_batch_2',\n",
       " 'dataset/cifar-10\\\\data_batch_3',\n",
       " 'dataset/cifar-10\\\\data_batch_4',\n",
       " 'dataset/cifar-10\\\\data_batch_5']"
      ]
     },
     "execution_count": 6,
     "metadata": {},
     "output_type": "execute_result"
    }
   ],
   "source": [
    "train_list"
   ]
  },
  {
   "cell_type": "code",
   "execution_count": 8,
   "metadata": {},
   "outputs": [
    {
     "data": {
      "text/plain": [
       "['dataset/cifar-10/test_batch']"
      ]
     },
     "execution_count": 8,
     "metadata": {},
     "output_type": "execute_result"
    }
   ],
   "source": [
    "test_list"
   ]
  },
  {
   "cell_type": "code",
   "execution_count": 7,
   "metadata": {},
   "outputs": [
    {
     "name": "stdout",
     "output_type": "stream",
     "text": [
      "dict_keys([b'batch_label', b'labels', b'data', b'filenames'])\n",
      "dict_keys([b'batch_label', b'labels', b'data', b'filenames'])\n",
      "dict_keys([b'batch_label', b'labels', b'data', b'filenames'])\n",
      "dict_keys([b'batch_label', b'labels', b'data', b'filenames'])\n",
      "dict_keys([b'batch_label', b'labels', b'data', b'filenames'])\n"
     ]
    }
   ],
   "source": [
    "sava_path = \"dataset/cifar-10/train\"\n",
    "for l in train_list:\n",
    "    l_dict = unpickle(l)\n",
    "    # print(l_dict)\n",
    "    print(l_dict.keys())\n",
    "\n",
    "    for im_idx, im_data in enumerate(l_dict[b'data']):\n",
    "        # print(im_idx)\n",
    "        # print(im_data) # 图片数据是个向量，需要 reshape\n",
    "\n",
    "        im_label = l_dict[b'labels'][im_idx] # 图片标签\n",
    "        im_name = l_dict[b'filenames'][im_idx] # 图片数据\n",
    "\n",
    "        # print(im_idx, im_label, im_name, im_data)\n",
    "        im_label_name = label_name[im_label] # 标签的名字\n",
    "        im_data = np.reshape(im_data, [3, 32, 32]) # 这个数据集通道在最前面\n",
    "        # 把通道放到后面\n",
    "        im_data = np.transpose(im_data, [1, 2, 0])\n",
    "        # 通过 opencv 可视化\n",
    "        # cv2.imshow(\"im_data\", im_data)\n",
    "        # cv2.waitKey(0)\n",
    "\n",
    "        # 判断是否有相应的文件夹，没有则创建\n",
    "        if not os.path.exists(f\"{sava_path}/{im_label_name}\"):\n",
    "            os.mkdir(f\"{sava_path}/{im_label_name}\")\n",
    "        \n",
    "        # 写入图片\n",
    "        cv2.imwrite(f\"{sava_path}/{im_label_name}/{im_name.decode('utf-8')}\", \n",
    "                        im_data)"
   ]
  },
  {
   "cell_type": "code",
   "execution_count": 9,
   "metadata": {},
   "outputs": [
    {
     "name": "stdout",
     "output_type": "stream",
     "text": [
      "dict_keys([b'batch_label', b'labels', b'data', b'filenames'])\n"
     ]
    }
   ],
   "source": [
    "sava_path = \"dataset/cifar-10/test\"\n",
    "for l in test_list:\n",
    "    l_dict = unpickle(l)\n",
    "    # print(l_dict)\n",
    "    print(l_dict.keys())\n",
    "\n",
    "    for im_idx, im_data in enumerate(l_dict[b'data']):\n",
    "        # print(im_idx)\n",
    "        # print(im_data) # 图片数据是个向量，需要 reshape\n",
    "\n",
    "        im_label = l_dict[b'labels'][im_idx] # 图片标签\n",
    "        im_name = l_dict[b'filenames'][im_idx] # 图片数据\n",
    "\n",
    "        # print(im_idx, im_label, im_name, im_data)\n",
    "        im_label_name = label_name[im_label] # 标签的名字\n",
    "        im_data = np.reshape(im_data, [3, 32, 32]) # 这个数据集通道在最前面\n",
    "        # 把通道放到后面\n",
    "        im_data = np.transpose(im_data, [1, 2, 0])\n",
    "        # 通过 opencv 可视化\n",
    "        cv2.imshow(\"im_data\", im_data)\n",
    "        cv2.waitKey(0)\n",
    "\n",
    "        # 判断是否有相应的文件夹，没有则创建\n",
    "        if not os.path.exists(f\"{sava_path}/{im_label_name}\"):\n",
    "            os.mkdir(f\"{sava_path}/{im_label_name}\")\n",
    "        \n",
    "        # 写入图片\n",
    "        cv2.imwrite(f\"{sava_path}/{im_label_name}/{im_name.decode('utf-8')}\", \n",
    "                        im_data)"
   ]
  }
 ],
 "metadata": {
  "interpreter": {
   "hash": "3d35cbbc18e921f4289b81326fbb5964743e7ba8e75824e721831f27f8e98a9e"
  },
  "kernelspec": {
   "display_name": "Python 3",
   "language": "python",
   "name": "python3"
  },
  "language_info": {
   "codemirror_mode": {
    "name": "ipython",
    "version": 3
   },
   "file_extension": ".py",
   "mimetype": "text/x-python",
   "name": "python",
   "nbconvert_exporter": "python",
   "pygments_lexer": "ipython3",
   "version": "3.7.9"
  },
  "nbTranslate": {
   "displayLangs": [
    "zh-cn",
    "en"
   ],
   "hotkey": "alt-t",
   "langInMainMenu": true,
   "sourceLang": "en",
   "targetLang": "zh-cn",
   "useGoogleTranslate": true
  }
 },
 "nbformat": 4,
 "nbformat_minor": 2
}
