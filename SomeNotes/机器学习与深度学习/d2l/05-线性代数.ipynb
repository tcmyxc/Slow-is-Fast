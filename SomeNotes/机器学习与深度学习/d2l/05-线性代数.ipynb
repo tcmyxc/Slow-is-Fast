{
 "cells": [
  {
   "cell_type": "code",
   "execution_count": 2,
   "source": [
    "import torch"
   ],
   "outputs": [],
   "metadata": {}
  },
  {
   "cell_type": "markdown",
   "source": [
    "# 线性代数"
   ],
   "metadata": {}
  },
  {
   "cell_type": "code",
   "execution_count": 3,
   "source": [
    "# 标量：直接给一个 list (list 只有单个元素 )\r\n",
    "x = torch.tensor([1.0])\r\n",
    "y = torch.tensor([2.0])\r\n",
    "\r\n",
    "x + y, x - y, x * y, x / y"
   ],
   "outputs": [
    {
     "output_type": "execute_result",
     "data": {
      "text/plain": [
       "(tensor([3.]), tensor([-1.]), tensor([2.]), tensor([0.5000]))"
      ]
     },
     "metadata": {},
     "execution_count": 3
    }
   ],
   "metadata": {}
  },
  {
   "cell_type": "code",
   "execution_count": 9,
   "source": [
    "A = torch.arange(20, dtype=torch.float32).reshape(4, 5)\r\n",
    "A, A.T"
   ],
   "outputs": [
    {
     "output_type": "execute_result",
     "data": {
      "text/plain": [
       "(tensor([[ 0.,  1.,  2.,  3.,  4.],\n",
       "         [ 5.,  6.,  7.,  8.,  9.],\n",
       "         [10., 11., 12., 13., 14.],\n",
       "         [15., 16., 17., 18., 19.]]),\n",
       " tensor([[ 0.,  5., 10., 15.],\n",
       "         [ 1.,  6., 11., 16.],\n",
       "         [ 2.,  7., 12., 17.],\n",
       "         [ 3.,  8., 13., 18.],\n",
       "         [ 4.,  9., 14., 19.]]))"
      ]
     },
     "metadata": {},
     "execution_count": 9
    }
   ],
   "metadata": {}
  },
  {
   "cell_type": "code",
   "execution_count": 10,
   "source": [
    "torch.norm(A) # L2范数"
   ],
   "outputs": [
    {
     "output_type": "execute_result",
     "data": {
      "text/plain": [
       "tensor(49.6991)"
      ]
     },
     "metadata": {},
     "execution_count": 10
    }
   ],
   "metadata": {}
  }
 ],
 "metadata": {
  "orig_nbformat": 4,
  "language_info": {
   "name": "python",
   "version": "3.7.9",
   "mimetype": "text/x-python",
   "codemirror_mode": {
    "name": "ipython",
    "version": 3
   },
   "pygments_lexer": "ipython3",
   "nbconvert_exporter": "python",
   "file_extension": ".py"
  },
  "kernelspec": {
   "name": "python3",
   "display_name": "Python 3.7.9 64-bit"
  },
  "interpreter": {
   "hash": "3d35cbbc18e921f4289b81326fbb5964743e7ba8e75824e721831f27f8e98a9e"
  }
 },
 "nbformat": 4,
 "nbformat_minor": 2
}