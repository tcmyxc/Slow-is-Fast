{
 "cells": [
  {
   "cell_type": "code",
   "execution_count": 1,
   "metadata": {},
   "outputs": [],
   "source": [
    "from torchvision import transforms\n",
    "from torch.utils.data import DataLoader, Dataset\n",
    "import os\n",
    "from PIL import Image\n",
    "import numpy as np\n",
    "import glob"
   ]
  },
  {
   "cell_type": "code",
   "execution_count": 2,
   "metadata": {},
   "outputs": [],
   "source": [
    "# 标签名\n",
    "label_name = [\"airplane\", \"automobile\", \"bird\", \"cat\", \"deer\",\n",
    "                \"dog\", \"frog\", \"horse\", \"ship\", \"truck\"]"
   ]
  },
  {
   "cell_type": "code",
   "execution_count": 3,
   "metadata": {},
   "outputs": [],
   "source": [
    "label_dict = {}\n",
    "\n",
    "# 将标签转换为数字\n",
    "for idx, name in enumerate(label_name):\n",
    "    label_dict[name] = idx"
   ]
  },
  {
   "cell_type": "code",
   "execution_count": 4,
   "metadata": {},
   "outputs": [],
   "source": [
    "def default_loader(path):\n",
    "    \"\"\"根据图片路径打开图片\n",
    "\n",
    "    :param path: 图片路径\n",
    "    \"\"\"\n",
    "    return Image.open(path).convert(\"RGB\")\n",
    "\n",
    "\n",
    "# 定义数据增强(仅训练集需要)\n",
    "train_transfrom = transforms.Compose([\n",
    "    transforms.RandomResizedCrop([28, 28]),\n",
    "    transforms.RandomHorizontalFlip(),\n",
    "    transforms.RandomVerticalFlip(),\n",
    "    transforms.RandomRotation(90),\n",
    "    transforms.RandomGrayscale(0.1), # 0.1 的概率变成灰度图\n",
    "    transforms.ToTensor()\n",
    "])"
   ]
  },
  {
   "cell_type": "code",
   "execution_count": 14,
   "metadata": {},
   "outputs": [],
   "source": [
    "class MyDataset(Dataset):\n",
    "    \"\"\"自定义数据集\"\"\"\n",
    "\n",
    "    def __init__(self, im_list, transform=None, loader=default_loader):\n",
    "        super().__init__()\n",
    "        imgs = []\n",
    "\n",
    "        for im_item in im_list:\n",
    "            # 倒数第二个是标签名\n",
    "            # win 的分割符是 \\\\，linux 是 /\n",
    "            im_label_name = im_item.split(\"\\\\\")[-2] \n",
    "            # 列表中追加图片路径，图片类别\n",
    "            imgs.append([im_item, label_dict[im_label_name]]) \n",
    "        \n",
    "        self.imgs = imgs\n",
    "        self.transform = transform\n",
    "        self.loader = loader\n",
    "\n",
    "    def __getitem__(self, index):\n",
    "        im_path, im_label = self.imgs[index]\n",
    "        im_data = self.loader(im_path)\n",
    "\n",
    "        # 判断是否有数据增强\n",
    "        if self.transform is not None:\n",
    "            im_data = self.transform(im_data)\n",
    "\n",
    "        return im_data, im_label\n",
    "    \n",
    "    def __len__(self):\n",
    "        return len(self.imgs)"
   ]
  },
  {
   "cell_type": "code",
   "execution_count": 6,
   "metadata": {},
   "outputs": [],
   "source": [
    "im_train_list = glob.glob(\"dataset/cifar-10/train/*/*.png\")\n",
    "\n",
    "im_test_list = glob.glob(\"dataset/cifar-10/test/*/*.png\")"
   ]
  },
  {
   "cell_type": "code",
   "execution_count": 15,
   "metadata": {},
   "outputs": [],
   "source": [
    "train_dataset = MyDataset(im_train_list, transform=train_transfrom)\n",
    "\n",
    "test_dataset = MyDataset(im_test_list, transform=transforms.ToTensor())\n",
    "\n",
    "# 定义 dataloader\n",
    "train_data_loader = DataLoader(dataset=train_dataset,\n",
    "                                batch_size=4,\n",
    "                                shuffle=True,\n",
    "                                num_workers=4)\n",
    "\n",
    "test_data_loader = DataLoader(dataset=test_dataset,\n",
    "                                batch_size=4,\n",
    "                                shuffle=False,\n",
    "                                num_workers=4)"
   ]
  },
  {
   "cell_type": "code",
   "execution_count": null,
   "metadata": {},
   "outputs": [],
   "source": [
    "print(\"num of train\", len(train_dataset))\n",
    "print(\"num of test\", len(test_dataset))"
   ]
  }
 ],
 "metadata": {
  "interpreter": {
   "hash": "3d35cbbc18e921f4289b81326fbb5964743e7ba8e75824e721831f27f8e98a9e"
  },
  "kernelspec": {
   "display_name": "Python 3",
   "language": "python",
   "name": "python3"
  },
  "language_info": {
   "codemirror_mode": {
    "name": "ipython",
    "version": 3
   },
   "file_extension": ".py",
   "mimetype": "text/x-python",
   "name": "python",
   "nbconvert_exporter": "python",
   "pygments_lexer": "ipython3",
   "version": "3.7.9"
  },
  "nbTranslate": {
   "displayLangs": [
    "zh-cn",
    "en"
   ],
   "hotkey": "alt-t",
   "langInMainMenu": true,
   "sourceLang": "en",
   "targetLang": "zh-cn",
   "useGoogleTranslate": true
  }
 },
 "nbformat": 4,
 "nbformat_minor": 2
}
